{
 "cells": [
  {
   "attachments": {},
   "cell_type": "markdown",
   "metadata": {},
   "source": [
    "## Setting up Conda environment"
   ]
  },
  {
   "attachments": {},
   "cell_type": "markdown",
   "metadata": {},
   "source": [
    "Exporting the conda environment:"
   ]
  },
  {
   "cell_type": "code",
   "execution_count": null,
   "metadata": {},
   "outputs": [],
   "source": [
    "!conda activate thesis && conda env export | grep -v \"^prefix: \" > environment.yml"
   ]
  },
  {
   "attachments": {},
   "cell_type": "markdown",
   "metadata": {},
   "source": [
    "Importing the conda environment:"
   ]
  },
  {
   "cell_type": "code",
   "execution_count": null,
   "metadata": {},
   "outputs": [],
   "source": [
    "!conda env create -f environment.yml"
   ]
  },
  {
   "attachments": {},
   "cell_type": "markdown",
   "metadata": {},
   "source": [
    "Make sure that this notebook runs the environment created by the commands above so that the following commands would work. The name of the conda environment created would be named \"thesis\"."
   ]
  },
  {
   "attachments": {},
   "cell_type": "markdown",
   "metadata": {},
   "source": [
    "## Setting up IPOPT"
   ]
  },
  {
   "cell_type": "code",
   "execution_count": null,
   "metadata": {},
   "outputs": [],
   "source": [
    "import os "
   ]
  },
  {
   "attachments": {},
   "cell_type": "markdown",
   "metadata": {},
   "source": [
    "Clone the GitHub repository of IPOPT"
   ]
  },
  {
   "cell_type": "code",
   "execution_count": null,
   "metadata": {},
   "outputs": [],
   "source": [
    "!rm -rf Ipopt\n",
    "!git clone https://github.com/coin-or/Ipopt"
   ]
  },
  {
   "attachments": {},
   "cell_type": "markdown",
   "metadata": {},
   "source": [
    "The following creates and executes a shell script that compiles the code while connecting to the anaconda environment that we created earlier."
   ]
  },
  {
   "cell_type": "code",
   "execution_count": null,
   "metadata": {},
   "outputs": [],
   "source": [
    "!rm -rf Ipopt/build \n",
    "!mkdir Ipopt/build\n",
    "\n",
    "homeFolderPath = os.path.expanduser('~')\n",
    "shellScriptContent = '''\n",
    "#!/bin/bash\n",
    "\n",
    "../configure --prefix=\"''' + os.getcwd() + '''/Ipopt/install\"\\\n",
    " CC=gcc F77=gfortran CXX=g++ \\\n",
    " --disable-java \\\n",
    " --with-lapack=\" -L''' + homeFolderPath + '''/opt/anaconda3/envs/thesis/lib -Wl,-rpath,''' + homeFolderPath + '''/opt/anaconda3/envs/thesis/lib -lmkl_intel_lp64 -lmkl_intel_thread -lmkl_core -liomp5 -lpthread -lm -ldl\" \\\n",
    " 'ADD_CXXFLAGS=-g  -m64  -I\"''' + homeFolderPath + '''/opt/anaconda3/envs/thesis/include\"' \\\n",
    " 'ADD_CFLAGS=-g  -m64  -I\"''' + homeFolderPath + '''/opt/anaconda3/envs/thesis/include\"' \\\n",
    " 'ADD_FFLAGS=-g '\n",
    "\n",
    "#''' + homeFolderPath + '''/opt/anaconda3/envs/thesis/lib\n",
    "'''\n",
    "\n",
    "f = open(\"Ipopt/build/sh.sh\", \"a\")\n",
    "f.write(shellScriptContent)\n",
    "f.close()\n",
    "\n",
    "!cd Ipopt/build && chmod +x sh.sh\n",
    "!cd Ipopt/build && ./sh.sh"
   ]
  },
  {
   "attachments": {},
   "cell_type": "markdown",
   "metadata": {},
   "source": [
    "Run the makefiles"
   ]
  },
  {
   "cell_type": "code",
   "execution_count": null,
   "metadata": {},
   "outputs": [],
   "source": [
    "!cd Ipopt/build && make\n",
    "!cd Ipopt/build && make install\n",
    "!cd Ipopt/build/examples/ScalableProblems && make"
   ]
  },
  {
   "attachments": {},
   "cell_type": "markdown",
   "metadata": {},
   "source": [
    "From this point forward, you can make changes to the files in \"Ipopt/examples/ScalableProblems\" and run the following command to do the make. If new files are created, add information regarding the same to the makefile \"Ipopt/build/examples/ScalableProblems/Makefile\" and just make it with the following command."
   ]
  },
  {
   "cell_type": "code",
   "execution_count": null,
   "metadata": {},
   "outputs": [],
   "source": [
    "!cd Ipopt/build/examples/ScalableProblems && make"
   ]
  },
  {
   "attachments": {},
   "cell_type": "markdown",
   "metadata": {},
   "source": [
    "## Modify IPOPT to incorporate our custom functions"
   ]
  },
  {
   "cell_type": "code",
   "execution_count": null,
   "metadata": {},
   "outputs": [],
   "source": [
    "!cd Ipopt_modified && chmod +x script.sh\n",
    "!cd Ipopt_modified && ./script.sh\n",
    "# If you need to do a clean, build, use the following\n",
    "# !cd Ipopt_modified && ./script.sh 100"
   ]
  }
 ],
 "metadata": {
  "kernelspec": {
   "display_name": "thesis",
   "language": "python",
   "name": "python3"
  },
  "language_info": {
   "codemirror_mode": {
    "name": "ipython",
    "version": 3
   },
   "file_extension": ".py",
   "mimetype": "text/x-python",
   "name": "python",
   "nbconvert_exporter": "python",
   "pygments_lexer": "ipython3",
   "version": "3.9.16"
  },
  "orig_nbformat": 4,
  "vscode": {
   "interpreter": {
    "hash": "592096fc2ea4c31a06c5001d0c091e9cc5e2a029efee669fe107c108767e98b4"
   }
  }
 },
 "nbformat": 4,
 "nbformat_minor": 2
}
